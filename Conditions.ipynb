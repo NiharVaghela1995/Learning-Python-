{
 "cells": [
  {
   "cell_type": "code",
   "execution_count": 2,
   "id": "43729a84-6eb5-42ca-8ee1-475eb0887ad8",
   "metadata": {},
   "outputs": [
    {
     "name": "stdout",
     "output_type": "stream",
     "text": [
      "yes\n"
     ]
    }
   ],
   "source": [
    "a=10\n",
    "if a==10 :\n",
    "    print('yes')"
   ]
  },
  {
   "cell_type": "code",
   "execution_count": 4,
   "id": "e13242a9-cbf5-4946-a681-ba65b9606180",
   "metadata": {},
   "outputs": [
    {
     "name": "stdout",
     "output_type": "stream",
     "text": [
      "yes\n"
     ]
    }
   ],
   "source": [
    "a=10\n",
    "if a>=5:\n",
    "    print('yes')"
   ]
  },
  {
   "cell_type": "code",
   "execution_count": 6,
   "id": "949267f5-9aa6-46b0-923c-e78a25278963",
   "metadata": {},
   "outputs": [],
   "source": [
    "a=10\n",
    "if a>=5:\n",
    "    pass"
   ]
  },
  {
   "cell_type": "code",
   "execution_count": 8,
   "id": "a8f14acf-3831-4c96-b2e6-942440670047",
   "metadata": {},
   "outputs": [],
   "source": [
    "a=10\n",
    "if a<5:\n",
    "    print('yes')"
   ]
  },
  {
   "cell_type": "code",
   "execution_count": 10,
   "id": "a428e99c-1ab0-4786-817c-06c6b86df351",
   "metadata": {},
   "outputs": [
    {
     "name": "stdout",
     "output_type": "stream",
     "text": [
      "a is not 11\n"
     ]
    }
   ],
   "source": [
    "a=1\n",
    "if a!=11:\n",
    "    print('a is not 11')"
   ]
  },
  {
   "cell_type": "code",
   "execution_count": 12,
   "id": "940f02ae-100c-43b4-a4fd-cf7ed466d6da",
   "metadata": {},
   "outputs": [
    {
     "name": "stdout",
     "output_type": "stream",
     "text": [
      "a is not 11\n"
     ]
    }
   ],
   "source": [
    "a=1\n",
    "if a!=11:\n",
    "    print('a is not 11')\n",
    "else: print('a is 11')"
   ]
  },
  {
   "cell_type": "code",
   "execution_count": 14,
   "id": "d41a7f50-b60d-445f-bfaf-29183382ef61",
   "metadata": {},
   "outputs": [
    {
     "name": "stdout",
     "output_type": "stream",
     "text": [
      "a is 38\n"
     ]
    }
   ],
   "source": [
    "a=38\n",
    "if a!=38:\n",
    "    print('a is not 38')\n",
    "else: print('a is 38')"
   ]
  },
  {
   "cell_type": "code",
   "execution_count": 16,
   "id": "2895f41f-8463-4a5d-b37d-074218e58ac4",
   "metadata": {},
   "outputs": [
    {
     "name": "stdout",
     "output_type": "stream",
     "text": [
      "a is between 8 & 12\n"
     ]
    }
   ],
   "source": [
    "a=10\n",
    "if a==12:\n",
    "    print('a is 12')\n",
    "elif a==8:\n",
    "    print('a is 8')\n",
    "else: print('a is between 8 & 12')"
   ]
  },
  {
   "cell_type": "code",
   "execution_count": 18,
   "id": "dba30429-e79e-4a4e-b62f-06514caaa0a1",
   "metadata": {},
   "outputs": [
    {
     "name": "stdout",
     "output_type": "stream",
     "text": [
      "it's a name\n"
     ]
    }
   ],
   "source": [
    "a='Nihar'\n",
    "if a=='Nihar':\n",
    "    print(\"it's a name\")\n",
    "elif a=='Vaghela':\n",
    "    print(\"It's a surname\")\n",
    "else: print(\"it's something else\")"
   ]
  },
  {
   "cell_type": "code",
   "execution_count": 20,
   "id": "173bb7ee-a75b-417e-8fd9-25bfc1acd03b",
   "metadata": {},
   "outputs": [],
   "source": [
    "price=992\n",
    "if price>1000:\n",
    "    print('Drop the option')\n",
    "elif price<600:\n",
    "    print('definitely pick this option')"
   ]
  },
  {
   "cell_type": "code",
   "execution_count": 22,
   "id": "8cae44b8-8f92-4215-8e53-692d900c1754",
   "metadata": {},
   "outputs": [
    {
     "data": {
      "text/plain": [
       "False"
      ]
     },
     "execution_count": 22,
     "metadata": {},
     "output_type": "execute_result"
    }
   ],
   "source": [
    "price>1000"
   ]
  },
  {
   "cell_type": "code",
   "execution_count": 24,
   "id": "f82d2d07-c26c-425f-86e3-109acea1f237",
   "metadata": {},
   "outputs": [
    {
     "data": {
      "text/plain": [
       "True"
      ]
     },
     "execution_count": 24,
     "metadata": {},
     "output_type": "execute_result"
    }
   ],
   "source": [
    "price<1000"
   ]
  },
  {
   "cell_type": "code",
   "execution_count": 26,
   "id": "e0eb7dc2-7180-4175-8e98-a57cc5a74b76",
   "metadata": {},
   "outputs": [
    {
     "data": {
      "text/plain": [
       "False"
      ]
     },
     "execution_count": 26,
     "metadata": {},
     "output_type": "execute_result"
    }
   ],
   "source": [
    "price==1000"
   ]
  },
  {
   "cell_type": "code",
   "execution_count": 28,
   "id": "851a479c-878a-4f5b-a434-38783ea15c1f",
   "metadata": {},
   "outputs": [
    {
     "name": "stdout",
     "output_type": "stream",
     "text": [
      "breakeven option\n"
     ]
    }
   ],
   "source": [
    "price=992\n",
    "if price>=1200:\n",
    "    print('Drop the option')\n",
    "elif price<=600:\n",
    "    print('definitely pick this option')\n",
    "elif price==992:\n",
    "    print('breakeven option')\n",
    "elif price>600 and price<992:\n",
    "    print('seems like a good option')\n",
    "elif price>992 and price<1200:\n",
    "    print('risky option')\n",
    "else: print('Analyze this option more')"
   ]
  },
  {
   "cell_type": "code",
   "execution_count": 30,
   "id": "2a303796-1a78-4e92-ad72-db2c193d300b",
   "metadata": {},
   "outputs": [
    {
     "data": {
      "text/plain": [
       "True"
      ]
     },
     "execution_count": 30,
     "metadata": {},
     "output_type": "execute_result"
    }
   ],
   "source": [
    "a=[1,2,3,4,5,6,7]\n",
    "2 in a"
   ]
  },
  {
   "cell_type": "code",
   "execution_count": 32,
   "id": "860c5bd6-e78b-4752-909e-843708b7d625",
   "metadata": {},
   "outputs": [
    {
     "name": "stdout",
     "output_type": "stream",
     "text": [
      "No\n"
     ]
    }
   ],
   "source": [
    "if 9 in a:\n",
    "    print('yes')\n",
    "else: print('No')"
   ]
  },
  {
   "cell_type": "code",
   "execution_count": 34,
   "id": "553ae9b1-982a-4fd7-ad49-fff7b35d2f37",
   "metadata": {},
   "outputs": [
    {
     "name": "stdout",
     "output_type": "stream",
     "text": [
      "Yes\n"
     ]
    }
   ],
   "source": [
    "if 1 in a:\n",
    "    print('Yes')\n",
    "elif 2 in a:\n",
    "    print('Yes')\n",
    "elif 3 in a:\n",
    "    print('Yes')"
   ]
  },
  {
   "cell_type": "code",
   "execution_count": 38,
   "id": "0275551d-4ce5-4b0b-b485-9212c6f3f1d1",
   "metadata": {},
   "outputs": [
    {
     "name": "stdout",
     "output_type": "stream",
     "text": [
      "2\n"
     ]
    }
   ],
   "source": [
    "if 10 in a:\n",
    "    print('101')\n",
    "elif 2 in a:\n",
    "    print('2')\n",
    "elif 3 in a:\n",
    "    print('3')"
   ]
  },
  {
   "cell_type": "code",
   "execution_count": 40,
   "id": "212a4dd4-8759-4332-9dc5-77705c30106e",
   "metadata": {},
   "outputs": [
    {
     "name": "stdout",
     "output_type": "stream",
     "text": [
      "1\n",
      "2\n",
      "3\n"
     ]
    }
   ],
   "source": [
    "if 1 in a:\n",
    "    print('1')\n",
    "if 2 in a:\n",
    "    print('2')\n",
    "if 3 in a:\n",
    "    print('3')"
   ]
  },
  {
   "cell_type": "code",
   "execution_count": 3,
   "id": "6d2bc450-b6be-42a1-a3eb-e061c3585a75",
   "metadata": {},
   "outputs": [
    {
     "name": "stdin",
     "output_type": "stream",
     "text": [
      " Nihar\n"
     ]
    }
   ],
   "source": [
    "Name=input()"
   ]
  },
  {
   "cell_type": "code",
   "execution_count": 5,
   "id": "50c03814-e6ac-470c-b669-c8a6a7b2f3ef",
   "metadata": {},
   "outputs": [
    {
     "data": {
      "text/plain": [
       "'Nihar'"
      ]
     },
     "execution_count": 5,
     "metadata": {},
     "output_type": "execute_result"
    }
   ],
   "source": [
    "Name"
   ]
  },
  {
   "cell_type": "code",
   "execution_count": 25,
   "id": "d49e9bf3-6d37-4815-a7f3-16109b15a89c",
   "metadata": {},
   "outputs": [
    {
     "data": {
      "text/plain": [
       "str"
      ]
     },
     "execution_count": 25,
     "metadata": {},
     "output_type": "execute_result"
    }
   ],
   "source": [
    "type(Name)"
   ]
  },
  {
   "cell_type": "code",
   "execution_count": 1,
   "id": "78cd6983-f18d-4eb8-b35d-3d9361c5db29",
   "metadata": {},
   "outputs": [
    {
     "name": "stdin",
     "output_type": "stream",
     "text": [
      " 13\n"
     ]
    },
    {
     "name": "stdout",
     "output_type": "stream",
     "text": [
      "Avoid it\n"
     ]
    }
   ],
   "source": [
    "price=int(input())\n",
    "if price<=5:\n",
    "    print('eat out')\n",
    "elif price>=10:\n",
    "    print('Avoid it')\n",
    "else:\n",
    "    print('think about it')"
   ]
  },
  {
   "cell_type": "code",
   "execution_count": 7,
   "id": "d9704eb5-dda5-471c-ad79-9aed276b8a89",
   "metadata": {},
   "outputs": [
    {
     "name": "stdin",
     "output_type": "stream",
     "text": [
      " 8\n"
     ]
    },
    {
     "name": "stdout",
     "output_type": "stream",
     "text": [
      "find if you can get it cheaper, or else eat at home\n"
     ]
    }
   ],
   "source": [
    "price=int(input())\n",
    "if price<=5:\n",
    "    print('eat out')\n",
    "elif price>=10:\n",
    "    print('Avoid it')\n",
    "else:\n",
    "    if price>5 and price<7:\n",
    "        print('Eat at low frequency')\n",
    "    if price>=7 and price<10:\n",
    "        print ('find if you can get it cheaper, or else eat at home')"
   ]
  },
  {
   "cell_type": "code",
   "execution_count": 9,
   "id": "454a8835-2c85-4b04-9b72-6bbfaf2e8236",
   "metadata": {},
   "outputs": [
    {
     "name": "stdin",
     "output_type": "stream",
     "text": [
      " 97\n"
     ]
    },
    {
     "name": "stdout",
     "output_type": "stream",
     "text": [
      "Admission possibel in Elite IIM\n",
      "Admission in new IIM\n"
     ]
    }
   ],
   "source": [
    "marks=int(input())\n",
    "if marks>=95:\n",
    "    print('Admission possibel in Elite IIM')\n",
    "    if marks>=95 and marks<98:\n",
    "        print('Admission in new IIM')\n",
    "    elif marks>=98 and marks<99:\n",
    "        print('Admission in IIM bangalore & calcutta')\n",
    "    else :\n",
    "        print('Admission in IIM Ahmedabad')\n",
    "elif marks<95 and marks>80:\n",
    "    print('Admission in good to average colleges')\n",
    "    if marks>=90 and marks<95:\n",
    "        print('Admission in baby IIM')\n",
    "    elif marks>80 and marks<90:\n",
    "        print('Admission in good enough colleges')\n",
    "    else:\n",
    "        print('Admission in tier 2 or tier 3 colleges')\n",
    "else: print('Admission not possible')"
   ]
  },
  {
   "cell_type": "code",
   "execution_count": 29,
   "id": "9f286e30-5a0a-4ac5-9f58-0ecac950514d",
   "metadata": {},
   "outputs": [
    {
     "name": "stdin",
     "output_type": "stream",
     "text": [
      "enter a number -10\n"
     ]
    },
    {
     "name": "stdout",
     "output_type": "stream",
     "text": [
      "value is negative\n"
     ]
    }
   ],
   "source": [
    "value=float(input(\"enter a number\"))\n",
    "if value>=0:\n",
    "    if value==0:\n",
    "        print('value is zero')\n",
    "    else: \n",
    "        print('value is positive')\n",
    "else: \n",
    "    print('value is negative')"
   ]
  },
  {
   "cell_type": "code",
   "execution_count": 17,
   "id": "d5eafdf0-f2da-45e3-a790-45ce0efa5a7c",
   "metadata": {},
   "outputs": [
    {
     "name": "stdout",
     "output_type": "stream",
     "text": [
      "A is meaningful\n"
     ]
    }
   ],
   "source": [
    "a=11\n",
    "if a==10 or a>10:\n",
    "    print('A is meaningful')\n",
    "else: print('A is not meaningful')"
   ]
  },
  {
   "cell_type": "code",
   "execution_count": 19,
   "id": "697fb6e9-b99f-4a5e-ae4d-6d03aa45887f",
   "metadata": {},
   "outputs": [
    {
     "name": "stdin",
     "output_type": "stream",
     "text": [
      " 66\n"
     ]
    },
    {
     "name": "stdout",
     "output_type": "stream",
     "text": [
      "A is meaningful and bounded\n",
      "A is majorly bounded\n"
     ]
    }
   ],
   "source": [
    "a=int(input())\n",
    "if a>10 and a<100:\n",
    "    print('A is meaningful and bounded')\n",
    "    if a>10 and a<60:\n",
    "        print('A is minorly bounded')\n",
    "    elif a>=60 and a<100:\n",
    "        print('A is majorly bounded')\n",
    "elif a>100:\n",
    "    print('A is an outlier')\n",
    "else: print('A is not meaningful')"
   ]
  },
  {
   "cell_type": "code",
   "execution_count": 21,
   "id": "95639806-c6d6-4f42-ad0f-261f5b3d8ef1",
   "metadata": {},
   "outputs": [],
   "source": [
    "a=1\n",
    "b=2\n",
    "c=3\n",
    "d=4\n",
    "if a==5 and b==2 and c==3 and d==4:\n",
    "    print('It works')"
   ]
  },
  {
   "cell_type": "code",
   "execution_count": 23,
   "id": "c05a5ba5-f884-4572-893b-8faf8b476d81",
   "metadata": {},
   "outputs": [
    {
     "name": "stdout",
     "output_type": "stream",
     "text": [
      "It works\n"
     ]
    }
   ],
   "source": [
    "a=1\n",
    "b=2\n",
    "c=3\n",
    "d=4\n",
    "if a==5 or b==2 and c==3 and d==4:\n",
    "    print('It works')"
   ]
  },
  {
   "cell_type": "code",
   "execution_count": 31,
   "id": "b81edf0f-ee5b-4fb1-a8cd-a7c95e6e7998",
   "metadata": {},
   "outputs": [],
   "source": [
    "a={'Name':'Nihar','Middlename':'Rajeshkumar','Lastname':'Vaghela'}"
   ]
  },
  {
   "cell_type": "code",
   "execution_count": 33,
   "id": "0aa15a0c-bcbc-4b4b-ba44-7485d4044373",
   "metadata": {},
   "outputs": [
    {
     "data": {
      "text/plain": [
       "'Nihar'"
      ]
     },
     "execution_count": 33,
     "metadata": {},
     "output_type": "execute_result"
    }
   ],
   "source": [
    "a['Name']"
   ]
  },
  {
   "cell_type": "code",
   "execution_count": 35,
   "id": "d654ac0e-a01c-4155-9407-b2176f7e2a09",
   "metadata": {},
   "outputs": [
    {
     "name": "stdout",
     "output_type": "stream",
     "text": [
      "Name is fully written\n",
      "dict_values(['Nihar', 'Rajeshkumar', 'Vaghela'])\n"
     ]
    }
   ],
   "source": [
    "if a['Name']=='Nihar' and a['Middlename']=='Rajeshkumar' and a['Lastname']=='Vaghela':\n",
    "    print('Name is fully written')\n",
    "    print(a.values())\n",
    "else: print('Info needs to be verified')"
   ]
  },
  {
   "cell_type": "code",
   "execution_count": 3,
   "id": "83806fa9-3079-48bb-bfd2-42b358fb2471",
   "metadata": {},
   "outputs": [],
   "source": [
    "A=[1,2,3,4,True,23.4,'Nihar',100]"
   ]
  },
  {
   "cell_type": "code",
   "execution_count": 53,
   "id": "7f64174b-93db-49fe-885c-5d0b6fc9d164",
   "metadata": {},
   "outputs": [
    {
     "data": {
      "text/plain": [
       "4"
      ]
     },
     "execution_count": 53,
     "metadata": {},
     "output_type": "execute_result"
    }
   ],
   "source": [
    "A[3]"
   ]
  },
  {
   "cell_type": "code",
   "execution_count": 55,
   "id": "431ce9ed-b4b1-4f9a-b695-f44e94c6d932",
   "metadata": {},
   "outputs": [
    {
     "name": "stdout",
     "output_type": "stream",
     "text": [
      "1\n",
      "2\n",
      "3\n",
      "4\n",
      "True\n",
      "23.4\n",
      "Nihar\n",
      "100\n"
     ]
    }
   ],
   "source": [
    "for i in A:\n",
    "    print(i)"
   ]
  },
  {
   "cell_type": "code",
   "execution_count": 57,
   "id": "7b02561a-0d8f-463d-9229-17eb41469eb1",
   "metadata": {},
   "outputs": [
    {
     "name": "stdout",
     "output_type": "stream",
     "text": [
      "2\n",
      "3\n",
      "4\n",
      "5\n",
      "2\n",
      "24.4\n"
     ]
    },
    {
     "ename": "TypeError",
     "evalue": "can only concatenate str (not \"int\") to str",
     "output_type": "error",
     "traceback": [
      "\u001b[1;31m---------------------------------------------------------------------------\u001b[0m",
      "\u001b[1;31mTypeError\u001b[0m                                 Traceback (most recent call last)",
      "Cell \u001b[1;32mIn[57], line 2\u001b[0m\n\u001b[0;32m      1\u001b[0m \u001b[38;5;28;01mfor\u001b[39;00m i \u001b[38;5;129;01min\u001b[39;00m A:\n\u001b[1;32m----> 2\u001b[0m     \u001b[38;5;28mprint\u001b[39m(i\u001b[38;5;241m+\u001b[39m\u001b[38;5;241m1\u001b[39m)\n",
      "\u001b[1;31mTypeError\u001b[0m: can only concatenate str (not \"int\") to str"
     ]
    }
   ],
   "source": [
    "for i in A:\n",
    "    print(i+1)"
   ]
  },
  {
   "cell_type": "code",
   "execution_count": 59,
   "id": "7432584c-99eb-48ca-9be5-c01b201e8dcd",
   "metadata": {},
   "outputs": [
    {
     "name": "stdout",
     "output_type": "stream",
     "text": [
      "2\n",
      "3\n",
      "4\n",
      "5\n",
      "24.4\n",
      "Nihar1\n",
      "101\n"
     ]
    }
   ],
   "source": [
    "for i in A:\n",
    "    if type(i)== int or type(i)== float:\n",
    "        print(i+1)\n",
    "    elif type(i)==str:\n",
    "        print(i + str(1))"
   ]
  },
  {
   "cell_type": "code",
   "execution_count": 5,
   "id": "155b2299-cadf-4363-85fa-4353d8f31ee0",
   "metadata": {},
   "outputs": [],
   "source": [
    "A1=[]\n",
    "for i in A:\n",
    "    if type(i)==int or type(i)==float:\n",
    "        A1.append(i)"
   ]
  },
  {
   "cell_type": "code",
   "execution_count": 7,
   "id": "b94d4b7c-de8b-4227-9213-39876624c493",
   "metadata": {},
   "outputs": [
    {
     "data": {
      "text/plain": [
       "[1, 2, 3, 4, 23.4, 100]"
      ]
     },
     "execution_count": 7,
     "metadata": {},
     "output_type": "execute_result"
    }
   ],
   "source": [
    "A1"
   ]
  }
 ],
 "metadata": {
  "kernelspec": {
   "display_name": "Python 3 (ipykernel)",
   "language": "python",
   "name": "python3"
  },
  "language_info": {
   "codemirror_mode": {
    "name": "ipython",
    "version": 3
   },
   "file_extension": ".py",
   "mimetype": "text/x-python",
   "name": "python",
   "nbconvert_exporter": "python",
   "pygments_lexer": "ipython3",
   "version": "3.12.7"
  }
 },
 "nbformat": 4,
 "nbformat_minor": 5
}
