{
 "cells": [
  {
   "cell_type": "code",
   "execution_count": 108,
   "id": "43da09fd-d1de-4458-837b-d3c836463943",
   "metadata": {},
   "outputs": [],
   "source": [
    "i=[1,2,3,4,5,\"Nihar\",True,314.25]"
   ]
  },
  {
   "cell_type": "code",
   "execution_count": 4,
   "id": "5aaaaf8c-9267-4fc7-8a05-de7c12cae7e0",
   "metadata": {},
   "outputs": [
    {
     "data": {
      "text/plain": [
       "[1, 2, 3, 4, 5, 'Nihar', True, 314.25]"
      ]
     },
     "execution_count": 4,
     "metadata": {},
     "output_type": "execute_result"
    }
   ],
   "source": [
    "i"
   ]
  },
  {
   "cell_type": "code",
   "execution_count": 8,
   "id": "c93f9c85-f61e-4cd3-afed-3c6c5f353d3d",
   "metadata": {},
   "outputs": [
    {
     "data": {
      "text/plain": [
       "[314.25, True, 'Nihar', 5]"
      ]
     },
     "execution_count": 8,
     "metadata": {},
     "output_type": "execute_result"
    }
   ],
   "source": [
    "i[-1:-5:-1]"
   ]
  },
  {
   "cell_type": "code",
   "execution_count": 10,
   "id": "3c508a19-9511-40bc-a6e0-3b06e6086ddc",
   "metadata": {},
   "outputs": [
    {
     "data": {
      "text/plain": [
       "3"
      ]
     },
     "execution_count": 10,
     "metadata": {},
     "output_type": "execute_result"
    }
   ],
   "source": [
    "i[2]"
   ]
  },
  {
   "cell_type": "code",
   "execution_count": 16,
   "id": "b8d2f236-6f08-430f-959d-df60ca47f1a1",
   "metadata": {},
   "outputs": [
    {
     "data": {
      "text/plain": [
       "'Nihar'"
      ]
     },
     "execution_count": 16,
     "metadata": {},
     "output_type": "execute_result"
    }
   ],
   "source": [
    "i[-3]"
   ]
  },
  {
   "cell_type": "code",
   "execution_count": 18,
   "id": "78bf2b8d-222a-4e19-9a12-8c58c1b15738",
   "metadata": {},
   "outputs": [
    {
     "data": {
      "text/plain": [
       "8"
      ]
     },
     "execution_count": 18,
     "metadata": {},
     "output_type": "execute_result"
    }
   ],
   "source": [
    "len(i)"
   ]
  },
  {
   "cell_type": "code",
   "execution_count": 20,
   "id": "802b18ae-c582-4c68-b889-c42ba232fd8f",
   "metadata": {},
   "outputs": [
    {
     "data": {
      "text/plain": [
       "[]"
      ]
     },
     "execution_count": 20,
     "metadata": {},
     "output_type": "execute_result"
    }
   ],
   "source": [
    "i[2:7:-1]"
   ]
  },
  {
   "cell_type": "code",
   "execution_count": 22,
   "id": "68886b8d-82e4-44da-bbe0-6520afe4b61b",
   "metadata": {},
   "outputs": [
    {
     "data": {
      "text/plain": [
       "[3, 4, 5, 'Nihar', True]"
      ]
     },
     "execution_count": 22,
     "metadata": {},
     "output_type": "execute_result"
    }
   ],
   "source": [
    "i[2:7:1]"
   ]
  },
  {
   "cell_type": "code",
   "execution_count": 24,
   "id": "985dff05-b3c3-4d70-a204-a9fadfbd094c",
   "metadata": {},
   "outputs": [
    {
     "data": {
      "text/plain": [
       "[314.25, True, 'Nihar', 5, 4, 3, 2, 1]"
      ]
     },
     "execution_count": 24,
     "metadata": {},
     "output_type": "execute_result"
    }
   ],
   "source": [
    "i[::-1]"
   ]
  },
  {
   "cell_type": "code",
   "execution_count": 30,
   "id": "b44d63d7-a30d-400e-84a5-662b94f589d1",
   "metadata": {},
   "outputs": [
    {
     "data": {
      "text/plain": [
       "[1, 3, 5, True]"
      ]
     },
     "execution_count": 30,
     "metadata": {},
     "output_type": "execute_result"
    }
   ],
   "source": [
    "i[0:100:2]"
   ]
  },
  {
   "cell_type": "code",
   "execution_count": 32,
   "id": "615ba2f3-18e1-4d51-91c7-2a598e50f290",
   "metadata": {},
   "outputs": [
    {
     "data": {
      "text/plain": [
       "[]"
      ]
     },
     "execution_count": 32,
     "metadata": {},
     "output_type": "execute_result"
    }
   ],
   "source": [
    "i[0:8:-1]"
   ]
  },
  {
   "cell_type": "code",
   "execution_count": 34,
   "id": "b5cde234-b39d-4447-a49f-aa638ce9b101",
   "metadata": {},
   "outputs": [
    {
     "data": {
      "text/plain": [
       "[1, 2, 3, 4, 5]"
      ]
     },
     "execution_count": 34,
     "metadata": {},
     "output_type": "execute_result"
    }
   ],
   "source": [
    "i[:5]"
   ]
  },
  {
   "cell_type": "code",
   "execution_count": 42,
   "id": "32b78e11-893a-4ba7-a54d-a138d5b363e6",
   "metadata": {},
   "outputs": [],
   "source": [
    "w=[2,4,575,5676,474477556,1213131]"
   ]
  },
  {
   "cell_type": "code",
   "execution_count": 44,
   "id": "6d5f85bd-383a-450d-bcf2-b355e80151ec",
   "metadata": {},
   "outputs": [
    {
     "data": {
      "text/plain": [
       "[1, 2, 3, 4, 5, 'Nihar', True, 314.25, 2, 4, 575, 5676, 474477556, 1213131]"
      ]
     },
     "execution_count": 44,
     "metadata": {},
     "output_type": "execute_result"
    }
   ],
   "source": [
    "i+w"
   ]
  },
  {
   "cell_type": "code",
   "execution_count": 46,
   "id": "30234392-669f-4d5d-b598-24474b8598ea",
   "metadata": {},
   "outputs": [],
   "source": [
    "q=\"nihar\""
   ]
  },
  {
   "cell_type": "code",
   "execution_count": 48,
   "id": "604aae48-015a-4399-84e7-408195e35efc",
   "metadata": {},
   "outputs": [
    {
     "ename": "TypeError",
     "evalue": "can only concatenate list (not \"str\") to list",
     "output_type": "error",
     "traceback": [
      "\u001b[1;31m---------------------------------------------------------------------------\u001b[0m",
      "\u001b[1;31mTypeError\u001b[0m                                 Traceback (most recent call last)",
      "Cell \u001b[1;32mIn[48], line 1\u001b[0m\n\u001b[1;32m----> 1\u001b[0m i\u001b[38;5;241m+\u001b[39mq\n",
      "\u001b[1;31mTypeError\u001b[0m: can only concatenate list (not \"str\") to list"
     ]
    }
   ],
   "source": [
    "i+q"
   ]
  },
  {
   "cell_type": "code",
   "execution_count": 50,
   "id": "fb28022d-89b8-44a4-a7c4-77504bc5b1a9",
   "metadata": {},
   "outputs": [
    {
     "data": {
      "text/plain": [
       "[1, 2, 3, 4, 5, 'Nihar', True, 314.25, 'nihar']"
      ]
     },
     "execution_count": 50,
     "metadata": {},
     "output_type": "execute_result"
    }
   ],
   "source": [
    "i+[q]"
   ]
  },
  {
   "cell_type": "code",
   "execution_count": 52,
   "id": "1a3ea288-7c2c-470a-9603-ce0b64fd157c",
   "metadata": {},
   "outputs": [
    {
     "data": {
      "text/plain": [
       "[1, 2, 3, 4, 5, 'Nihar', True, 314.25, 1, 2, 3, 4, 5, 'Nihar', True, 314.25]"
      ]
     },
     "execution_count": 52,
     "metadata": {},
     "output_type": "execute_result"
    }
   ],
   "source": [
    "i*2"
   ]
  },
  {
   "cell_type": "code",
   "execution_count": 54,
   "id": "a86276ff-0612-4b7f-96b9-ed0110af8d13",
   "metadata": {},
   "outputs": [
    {
     "data": {
      "text/plain": [
       "[[1, 2, 3, 4, 5, 'Nihar', True, 314.25, 'nihar'],\n",
       " [1, 2, 3, 4, 5, 'Nihar', True, 314.25, 'nihar']]"
      ]
     },
     "execution_count": 54,
     "metadata": {},
     "output_type": "execute_result"
    }
   ],
   "source": [
    "[i+[q]]*2"
   ]
  },
  {
   "cell_type": "code",
   "execution_count": 58,
   "id": "5de6dda5-1acf-43c6-99d0-59afc15e9171",
   "metadata": {},
   "outputs": [
    {
     "data": {
      "text/plain": [
       "True"
      ]
     },
     "execution_count": 58,
     "metadata": {},
     "output_type": "execute_result"
    }
   ],
   "source": [
    "\"Nihar\" in i"
   ]
  },
  {
   "cell_type": "code",
   "execution_count": 60,
   "id": "cd86884a-a9ed-4779-9032-6b4c09c955dd",
   "metadata": {},
   "outputs": [
    {
     "data": {
      "text/plain": [
       "True"
      ]
     },
     "execution_count": 60,
     "metadata": {},
     "output_type": "execute_result"
    }
   ],
   "source": [
    "314.25 in i"
   ]
  },
  {
   "cell_type": "code",
   "execution_count": 62,
   "id": "95cd5949-cbbb-4d4a-974c-ae6f071fe8fa",
   "metadata": {},
   "outputs": [
    {
     "ename": "TypeError",
     "evalue": "'>' not supported between instances of 'str' and 'int'",
     "output_type": "error",
     "traceback": [
      "\u001b[1;31m---------------------------------------------------------------------------\u001b[0m",
      "\u001b[1;31mTypeError\u001b[0m                                 Traceback (most recent call last)",
      "Cell \u001b[1;32mIn[62], line 1\u001b[0m\n\u001b[1;32m----> 1\u001b[0m \u001b[38;5;28mmax\u001b[39m(i)\n",
      "\u001b[1;31mTypeError\u001b[0m: '>' not supported between instances of 'str' and 'int'"
     ]
    }
   ],
   "source": [
    "max(i)"
   ]
  },
  {
   "cell_type": "code",
   "execution_count": 64,
   "id": "961e7a09-d502-49d6-9364-128f0ec5115e",
   "metadata": {},
   "outputs": [
    {
     "data": {
      "text/plain": [
       "474477556"
      ]
     },
     "execution_count": 64,
     "metadata": {},
     "output_type": "execute_result"
    }
   ],
   "source": [
    "max(w)"
   ]
  },
  {
   "cell_type": "code",
   "execution_count": 66,
   "id": "9af2cde1-5014-4b3c-8df1-1cd3f48e1a5f",
   "metadata": {},
   "outputs": [],
   "source": [
    "s=[12,35,457,234,True]"
   ]
  },
  {
   "cell_type": "code",
   "execution_count": 68,
   "id": "7f8a13d0-dfcf-4f6d-b4fb-7a472836e0bb",
   "metadata": {},
   "outputs": [
    {
     "data": {
      "text/plain": [
       "457"
      ]
     },
     "execution_count": 68,
     "metadata": {},
     "output_type": "execute_result"
    }
   ],
   "source": [
    "max(s)"
   ]
  },
  {
   "cell_type": "code",
   "execution_count": 70,
   "id": "5c4b51d9-3731-4f6b-8ba6-debc4aa291b6",
   "metadata": {},
   "outputs": [],
   "source": [
    "y=[\"Nihar\",\"Rajeshkumar\",\"Vaghela\"]"
   ]
  },
  {
   "cell_type": "code",
   "execution_count": 74,
   "id": "9db30691-bb01-4a9a-a470-eea393be351f",
   "metadata": {},
   "outputs": [
    {
     "data": {
      "text/plain": [
       "'Vaghela'"
      ]
     },
     "execution_count": 74,
     "metadata": {},
     "output_type": "execute_result"
    }
   ],
   "source": [
    "max(y)"
   ]
  },
  {
   "cell_type": "code",
   "execution_count": 112,
   "id": "14641ec2-1258-4f23-91a6-c322812bf0a0",
   "metadata": {},
   "outputs": [],
   "source": [
    "i.append(\"Vaghela\")"
   ]
  },
  {
   "cell_type": "code",
   "execution_count": 114,
   "id": "d18ac02c-0569-42c0-8f97-485d6b624e29",
   "metadata": {},
   "outputs": [
    {
     "data": {
      "text/plain": [
       "[1, 2, 3, 4, 5, 'Nihar', True, 314.25, 'Vaghela']"
      ]
     },
     "execution_count": 114,
     "metadata": {},
     "output_type": "execute_result"
    }
   ],
   "source": [
    "i"
   ]
  },
  {
   "cell_type": "code",
   "execution_count": 116,
   "id": "8bdd8d9b-0bd1-4f8f-9db3-ea1c1e16c60a",
   "metadata": {},
   "outputs": [],
   "source": [
    "i.append([\"Rajeshkumar\", 1212, True])"
   ]
  },
  {
   "cell_type": "code",
   "execution_count": 118,
   "id": "b10f633b-a005-4f06-8000-33fae667e101",
   "metadata": {},
   "outputs": [
    {
     "data": {
      "text/plain": [
       "[1, 2, 3, 4, 5, 'Nihar', True, 314.25, 'Vaghela', ['Rajeshkumar', 1212, True]]"
      ]
     },
     "execution_count": 118,
     "metadata": {},
     "output_type": "execute_result"
    }
   ],
   "source": [
    "i"
   ]
  },
  {
   "cell_type": "code",
   "execution_count": 120,
   "id": "77080908-4b1c-4ca8-b563-632faad50976",
   "metadata": {},
   "outputs": [
    {
     "data": {
      "text/plain": [
       "314.25"
      ]
     },
     "execution_count": 120,
     "metadata": {},
     "output_type": "execute_result"
    }
   ],
   "source": [
    "i.pop(7)"
   ]
  },
  {
   "cell_type": "code",
   "execution_count": 122,
   "id": "69d43cd4-137b-49b1-8e15-d0fe270260c7",
   "metadata": {},
   "outputs": [
    {
     "data": {
      "text/plain": [
       "[1, 2, 3, 4, 5, 'Nihar', True, 'Vaghela', ['Rajeshkumar', 1212, True]]"
      ]
     },
     "execution_count": 122,
     "metadata": {},
     "output_type": "execute_result"
    }
   ],
   "source": [
    "i"
   ]
  },
  {
   "cell_type": "code",
   "execution_count": 124,
   "id": "ccf2926c-4ad1-455c-9227-1d844f82ad20",
   "metadata": {},
   "outputs": [
    {
     "data": {
      "text/plain": [
       "True"
      ]
     },
     "execution_count": 124,
     "metadata": {},
     "output_type": "execute_result"
    }
   ],
   "source": [
    "i.pop(6)"
   ]
  },
  {
   "cell_type": "code",
   "execution_count": 126,
   "id": "ffba297c-450c-437a-9468-4b35671babcb",
   "metadata": {},
   "outputs": [
    {
     "data": {
      "text/plain": [
       "[1, 2, 3, 4, 5, 'Nihar', 'Vaghela', ['Rajeshkumar', 1212, True]]"
      ]
     },
     "execution_count": 126,
     "metadata": {},
     "output_type": "execute_result"
    }
   ],
   "source": [
    "i"
   ]
  },
  {
   "cell_type": "code",
   "execution_count": 128,
   "id": "9ada2cca-5851-4e24-b912-22872ba54d42",
   "metadata": {},
   "outputs": [
    {
     "data": {
      "text/plain": [
       "['Rajeshkumar', 1212, True]"
      ]
     },
     "execution_count": 128,
     "metadata": {},
     "output_type": "execute_result"
    }
   ],
   "source": [
    "i.pop()"
   ]
  },
  {
   "cell_type": "code",
   "execution_count": 130,
   "id": "a74c9efd-bc97-4590-8138-4a4d57bcb4da",
   "metadata": {},
   "outputs": [
    {
     "data": {
      "text/plain": [
       "[1, 2, 3, 4, 5, 'Nihar', 'Vaghela']"
      ]
     },
     "execution_count": 130,
     "metadata": {},
     "output_type": "execute_result"
    }
   ],
   "source": [
    "i"
   ]
  },
  {
   "cell_type": "code",
   "execution_count": 132,
   "id": "9ea77bff-29b7-4d70-bd96-f7ce08b060dc",
   "metadata": {},
   "outputs": [],
   "source": [
    "i.reverse()"
   ]
  },
  {
   "cell_type": "code",
   "execution_count": 134,
   "id": "f7d02702-11b1-4cb3-9174-f535af36b64e",
   "metadata": {},
   "outputs": [
    {
     "data": {
      "text/plain": [
       "['Vaghela', 'Nihar', 5, 4, 3, 2, 1]"
      ]
     },
     "execution_count": 134,
     "metadata": {},
     "output_type": "execute_result"
    }
   ],
   "source": [
    "i"
   ]
  },
  {
   "cell_type": "code",
   "execution_count": 136,
   "id": "d69a14ad-67d7-4870-935c-f22d039bcd9b",
   "metadata": {},
   "outputs": [
    {
     "data": {
      "text/plain": [
       "[1, 2, 3, 4, 5, 'Nihar', 'Vaghela']"
      ]
     },
     "execution_count": 136,
     "metadata": {},
     "output_type": "execute_result"
    }
   ],
   "source": [
    "i[::-1]"
   ]
  },
  {
   "cell_type": "code",
   "execution_count": 138,
   "id": "c7e9a7d7-4932-41a1-958e-5df0420ab1c4",
   "metadata": {},
   "outputs": [
    {
     "data": {
      "text/plain": [
       "['Vaghela', 'Nihar', 5, 4, 3, 2, 1]"
      ]
     },
     "execution_count": 138,
     "metadata": {},
     "output_type": "execute_result"
    }
   ],
   "source": [
    "i"
   ]
  },
  {
   "cell_type": "code",
   "execution_count": 140,
   "id": "0887302e-8467-4c2d-bbf8-33fe182f00c6",
   "metadata": {},
   "outputs": [],
   "source": [
    "w.sort()"
   ]
  },
  {
   "cell_type": "code",
   "execution_count": 142,
   "id": "15c02d2d-d459-4f39-87a0-f619bf672277",
   "metadata": {},
   "outputs": [
    {
     "data": {
      "text/plain": [
       "[2, 4, 575, 5676, 1213131, 474477556]"
      ]
     },
     "execution_count": 142,
     "metadata": {},
     "output_type": "execute_result"
    }
   ],
   "source": [
    "w"
   ]
  },
  {
   "cell_type": "code",
   "execution_count": 148,
   "id": "5b822f9b-3654-4b22-908b-7334b907ad8a",
   "metadata": {},
   "outputs": [],
   "source": [
    "w.sort(reverse=True)"
   ]
  },
  {
   "cell_type": "code",
   "execution_count": 150,
   "id": "f9b03e7c-b377-4263-8e30-ed3595bd8eae",
   "metadata": {},
   "outputs": [
    {
     "data": {
      "text/plain": [
       "[474477556, 1213131, 5676, 575, 4, 2]"
      ]
     },
     "execution_count": 150,
     "metadata": {},
     "output_type": "execute_result"
    }
   ],
   "source": [
    "w"
   ]
  },
  {
   "cell_type": "code",
   "execution_count": 156,
   "id": "81db9445-8bc5-4685-a4ec-c624134daf49",
   "metadata": {},
   "outputs": [],
   "source": [
    "a=[1,2,3,4]\n",
    "b=[5,6,7,8]\n",
    "c=[8,9,10,11]"
   ]
  },
  {
   "cell_type": "code",
   "execution_count": 158,
   "id": "a86f12f3-0ab7-4715-8d21-c0fe1cded9f8",
   "metadata": {},
   "outputs": [],
   "source": [
    "d=[a,b,c]"
   ]
  },
  {
   "cell_type": "code",
   "execution_count": 160,
   "id": "905992cf-9b22-4b61-9056-635c493ac8d7",
   "metadata": {},
   "outputs": [
    {
     "data": {
      "text/plain": [
       "[[1, 2, 3, 4], [5, 6, 7, 8], [8, 9, 10, 11]]"
      ]
     },
     "execution_count": 160,
     "metadata": {},
     "output_type": "execute_result"
    }
   ],
   "source": [
    "d"
   ]
  },
  {
   "cell_type": "code",
   "execution_count": 172,
   "id": "8120d57e-8e8e-4300-aa27-e3f9a2f75c04",
   "metadata": {},
   "outputs": [
    {
     "data": {
      "text/plain": [
       "11"
      ]
     },
     "execution_count": 172,
     "metadata": {},
     "output_type": "execute_result"
    }
   ],
   "source": [
    "d[2][3]"
   ]
  },
  {
   "cell_type": "code",
   "execution_count": 180,
   "id": "4e218abe-23eb-4ab1-95be-615f48e7df91",
   "metadata": {},
   "outputs": [
    {
     "data": {
      "text/plain": [
       "0"
      ]
     },
     "execution_count": 180,
     "metadata": {},
     "output_type": "execute_result"
    }
   ],
   "source": [
    "d.count(2)"
   ]
  },
  {
   "cell_type": "code",
   "execution_count": 182,
   "id": "cc5ad895-12a5-4f32-8c48-7aadf6783a6f",
   "metadata": {},
   "outputs": [],
   "source": [
    "e=[3,5,3,5,3,5,6,7,7,3,4]"
   ]
  },
  {
   "cell_type": "code",
   "execution_count": 184,
   "id": "9d71719b-094a-4db1-8ec2-9cdf0894734d",
   "metadata": {},
   "outputs": [
    {
     "data": {
      "text/plain": [
       "4"
      ]
     },
     "execution_count": 184,
     "metadata": {},
     "output_type": "execute_result"
    }
   ],
   "source": [
    "e.count(3)"
   ]
  },
  {
   "cell_type": "code",
   "execution_count": 188,
   "id": "06d9faac-f95c-4722-936e-251767e207bd",
   "metadata": {},
   "outputs": [],
   "source": [
    "e.append(\"Nihar\")"
   ]
  },
  {
   "cell_type": "code",
   "execution_count": 190,
   "id": "07eaa701-9681-4b42-83b7-d72aa8759198",
   "metadata": {},
   "outputs": [
    {
     "data": {
      "text/plain": [
       "[3, 5, 3, 5, 3, 5, 6, 7, 7, 3, 4, 'Nihar']"
      ]
     },
     "execution_count": 190,
     "metadata": {},
     "output_type": "execute_result"
    }
   ],
   "source": [
    "e"
   ]
  },
  {
   "cell_type": "code",
   "execution_count": 192,
   "id": "1a80990a-51dc-45d1-915a-29fdaadaec39",
   "metadata": {},
   "outputs": [],
   "source": [
    "e.extend(\"Vaghela\")"
   ]
  },
  {
   "cell_type": "code",
   "execution_count": 194,
   "id": "de3483f5-2581-4613-8d0d-7533a87a820c",
   "metadata": {},
   "outputs": [
    {
     "data": {
      "text/plain": [
       "[3, 5, 3, 5, 3, 5, 6, 7, 7, 3, 4, 'Nihar', 'V', 'a', 'g', 'h', 'e', 'l', 'a']"
      ]
     },
     "execution_count": 194,
     "metadata": {},
     "output_type": "execute_result"
    }
   ],
   "source": [
    "e"
   ]
  },
  {
   "cell_type": "code",
   "execution_count": 196,
   "id": "1bc7b2fe-78c3-40ed-9475-1a8d2e55da17",
   "metadata": {},
   "outputs": [],
   "source": [
    "e.extend([2,3,4,5])"
   ]
  },
  {
   "cell_type": "code",
   "execution_count": 198,
   "id": "6763ee24-2ee7-48e5-8c60-7a3003f64ecb",
   "metadata": {},
   "outputs": [
    {
     "data": {
      "text/plain": [
       "[3,\n",
       " 5,\n",
       " 3,\n",
       " 5,\n",
       " 3,\n",
       " 5,\n",
       " 6,\n",
       " 7,\n",
       " 7,\n",
       " 3,\n",
       " 4,\n",
       " 'Nihar',\n",
       " 'V',\n",
       " 'a',\n",
       " 'g',\n",
       " 'h',\n",
       " 'e',\n",
       " 'l',\n",
       " 'a',\n",
       " 2,\n",
       " 3,\n",
       " 4,\n",
       " 5]"
      ]
     },
     "execution_count": 198,
     "metadata": {},
     "output_type": "execute_result"
    }
   ],
   "source": [
    "e"
   ]
  },
  {
   "cell_type": "code",
   "execution_count": 200,
   "id": "3e1dcad6-4b5e-4fc3-9792-84b6820d4b43",
   "metadata": {},
   "outputs": [
    {
     "data": {
      "text/plain": [
       "10"
      ]
     },
     "execution_count": 200,
     "metadata": {},
     "output_type": "execute_result"
    }
   ],
   "source": [
    "e.index(4)"
   ]
  },
  {
   "cell_type": "code",
   "execution_count": 204,
   "id": "3ca0bbcd-0d9d-4dc4-878b-c439dfd09ca4",
   "metadata": {},
   "outputs": [
    {
     "data": {
      "text/plain": [
       "4"
      ]
     },
     "execution_count": 204,
     "metadata": {},
     "output_type": "execute_result"
    }
   ],
   "source": [
    "e.count(5)"
   ]
  },
  {
   "cell_type": "code",
   "execution_count": 212,
   "id": "5fd80abd-6c13-4770-9f15-863f1a6bb8b5",
   "metadata": {},
   "outputs": [],
   "source": [
    "f=[2,5,\"h\",\"r\"]"
   ]
  },
  {
   "cell_type": "code",
   "execution_count": 214,
   "id": "36ac33d0-2438-4846-8dbf-3f7de6d2f67f",
   "metadata": {},
   "outputs": [],
   "source": [
    "f.append(\"Nihar\")"
   ]
  },
  {
   "cell_type": "code",
   "execution_count": 216,
   "id": "dc54b6d8-5522-4ba9-aa6a-016f53ad807c",
   "metadata": {},
   "outputs": [
    {
     "data": {
      "text/plain": [
       "[2, 5, 'h', 'r', 'Nihar']"
      ]
     },
     "execution_count": 216,
     "metadata": {},
     "output_type": "execute_result"
    }
   ],
   "source": [
    "f"
   ]
  },
  {
   "cell_type": "code",
   "execution_count": 218,
   "id": "f5054eb7-7488-47de-856d-abd3140930c9",
   "metadata": {},
   "outputs": [],
   "source": [
    "f.insert(0,1)"
   ]
  },
  {
   "cell_type": "code",
   "execution_count": 220,
   "id": "7f85bb56-3a68-4cc1-acf1-77051ad90eab",
   "metadata": {},
   "outputs": [
    {
     "data": {
      "text/plain": [
       "[1, 2, 5, 'h', 'r', 'Nihar']"
      ]
     },
     "execution_count": 220,
     "metadata": {},
     "output_type": "execute_result"
    }
   ],
   "source": [
    "f"
   ]
  },
  {
   "cell_type": "code",
   "execution_count": 222,
   "id": "e9f776d2-22f4-4976-a689-4c9310917bf6",
   "metadata": {},
   "outputs": [],
   "source": [
    "f.insert(6,\"Vaghela\")"
   ]
  },
  {
   "cell_type": "code",
   "execution_count": 224,
   "id": "5941fa3c-eb60-4307-8950-553ef4a88da5",
   "metadata": {},
   "outputs": [
    {
     "data": {
      "text/plain": [
       "[1, 2, 5, 'h', 'r', 'Nihar', 'Vaghela']"
      ]
     },
     "execution_count": 224,
     "metadata": {},
     "output_type": "execute_result"
    }
   ],
   "source": [
    "f"
   ]
  },
  {
   "cell_type": "code",
   "execution_count": 226,
   "id": "408d36e4-f389-4a80-ba71-70123dfd9176",
   "metadata": {},
   "outputs": [
    {
     "data": {
      "text/plain": [
       "'Vaghela'"
      ]
     },
     "execution_count": 226,
     "metadata": {},
     "output_type": "execute_result"
    }
   ],
   "source": [
    "f.pop()"
   ]
  },
  {
   "cell_type": "code",
   "execution_count": 228,
   "id": "e6667005-b8db-4944-b1eb-d30e59b9a459",
   "metadata": {},
   "outputs": [
    {
     "data": {
      "text/plain": [
       "[1, 2, 5, 'h', 'r', 'Nihar']"
      ]
     },
     "execution_count": 228,
     "metadata": {},
     "output_type": "execute_result"
    }
   ],
   "source": [
    "f"
   ]
  },
  {
   "cell_type": "code",
   "execution_count": 230,
   "id": "45a8eaa5-aa4f-49c2-b459-5dc1623dc25c",
   "metadata": {},
   "outputs": [
    {
     "data": {
      "text/plain": [
       "'Nihar'"
      ]
     },
     "execution_count": 230,
     "metadata": {},
     "output_type": "execute_result"
    }
   ],
   "source": [
    "f.pop(5)"
   ]
  },
  {
   "cell_type": "code",
   "execution_count": 232,
   "id": "0351117a-1b05-4aed-acdb-8c372ba2c51e",
   "metadata": {},
   "outputs": [
    {
     "data": {
      "text/plain": [
       "[1, 2, 5, 'h', 'r']"
      ]
     },
     "execution_count": 232,
     "metadata": {},
     "output_type": "execute_result"
    }
   ],
   "source": [
    "f"
   ]
  },
  {
   "cell_type": "code",
   "execution_count": 234,
   "id": "6ec4b907-ebbf-4090-a1dc-d0a6a907b9f2",
   "metadata": {},
   "outputs": [],
   "source": [
    "f.remove(\"h\")"
   ]
  },
  {
   "cell_type": "code",
   "execution_count": 236,
   "id": "edc7786e-cb41-4c09-b46c-ddede50b2096",
   "metadata": {},
   "outputs": [
    {
     "data": {
      "text/plain": [
       "[1, 2, 5, 'r']"
      ]
     },
     "execution_count": 236,
     "metadata": {},
     "output_type": "execute_result"
    }
   ],
   "source": [
    "f"
   ]
  },
  {
   "cell_type": "code",
   "execution_count": 238,
   "id": "56002322-2767-4af4-a4a3-288f276ee1f7",
   "metadata": {},
   "outputs": [],
   "source": [
    "f[3]=\"Nihar\""
   ]
  },
  {
   "cell_type": "code",
   "execution_count": 240,
   "id": "e46a8f39-2d8b-495e-8adf-cf9d2b1b7242",
   "metadata": {},
   "outputs": [
    {
     "data": {
      "text/plain": [
       "[1, 2, 5, 'Nihar']"
      ]
     },
     "execution_count": 240,
     "metadata": {},
     "output_type": "execute_result"
    }
   ],
   "source": [
    "f"
   ]
  },
  {
   "cell_type": "code",
   "execution_count": 242,
   "id": "e9b65381-9928-4773-8def-6b88a00422ce",
   "metadata": {},
   "outputs": [],
   "source": [
    "g=\"Vaghela\""
   ]
  },
  {
   "cell_type": "code",
   "execution_count": 244,
   "id": "0273fdd7-1d36-4bac-bc46-fb74ea8351c7",
   "metadata": {},
   "outputs": [
    {
     "data": {
      "text/plain": [
       "'Vaghela'"
      ]
     },
     "execution_count": 244,
     "metadata": {},
     "output_type": "execute_result"
    }
   ],
   "source": [
    "g"
   ]
  },
  {
   "cell_type": "code",
   "execution_count": 246,
   "id": "44effb62-fa26-4ee2-ac21-defebaea184f",
   "metadata": {},
   "outputs": [
    {
     "data": {
      "text/plain": [
       "'g'"
      ]
     },
     "execution_count": 246,
     "metadata": {},
     "output_type": "execute_result"
    }
   ],
   "source": [
    "g[2]"
   ]
  },
  {
   "cell_type": "code",
   "execution_count": 250,
   "id": "b833a05c-8269-426d-bf11-a7433bacd066",
   "metadata": {},
   "outputs": [
    {
     "ename": "TypeError",
     "evalue": "'str' object does not support item assignment",
     "output_type": "error",
     "traceback": [
      "\u001b[1;31m---------------------------------------------------------------------------\u001b[0m",
      "\u001b[1;31mTypeError\u001b[0m                                 Traceback (most recent call last)",
      "Cell \u001b[1;32mIn[250], line 1\u001b[0m\n\u001b[1;32m----> 1\u001b[0m g[\u001b[38;5;241m2\u001b[39m]\u001b[38;5;241m=\u001b[39m\u001b[38;5;124m\"\u001b[39m\u001b[38;5;124mG\u001b[39m\u001b[38;5;124m\"\u001b[39m\n",
      "\u001b[1;31mTypeError\u001b[0m: 'str' object does not support item assignment"
     ]
    }
   ],
   "source": [
    "g[2]=\"G\""
   ]
  },
  {
   "cell_type": "code",
   "execution_count": 252,
   "id": "ad9091d8-d94b-4c82-98d8-d67201f0e647",
   "metadata": {},
   "outputs": [],
   "source": [
    "h=(1,2,3,\"Nihar\",45.67, True)"
   ]
  },
  {
   "cell_type": "code",
   "execution_count": 254,
   "id": "48fed19e-cd4a-4ca9-8d2f-6236d50bf5ab",
   "metadata": {},
   "outputs": [
    {
     "data": {
      "text/plain": [
       "tuple"
      ]
     },
     "execution_count": 254,
     "metadata": {},
     "output_type": "execute_result"
    }
   ],
   "source": [
    "type(h)"
   ]
  },
  {
   "cell_type": "code",
   "execution_count": 256,
   "id": "4ef1726e-87fc-4f7e-a4ff-461640136327",
   "metadata": {},
   "outputs": [
    {
     "data": {
      "text/plain": [
       "'Nihar'"
      ]
     },
     "execution_count": 256,
     "metadata": {},
     "output_type": "execute_result"
    }
   ],
   "source": [
    "h[3]"
   ]
  },
  {
   "cell_type": "code",
   "execution_count": 258,
   "id": "3dcce0ab-b5b3-4c91-b525-63e8748eb754",
   "metadata": {},
   "outputs": [
    {
     "data": {
      "text/plain": [
       "(3, 'Nihar', 45.67)"
      ]
     },
     "execution_count": 258,
     "metadata": {},
     "output_type": "execute_result"
    }
   ],
   "source": [
    "h[2:5]"
   ]
  },
  {
   "cell_type": "code",
   "execution_count": 260,
   "id": "c5011f30-c701-4183-9a39-a3e69067dbc9",
   "metadata": {},
   "outputs": [
    {
     "data": {
      "text/plain": [
       "'Nihar'"
      ]
     },
     "execution_count": 260,
     "metadata": {},
     "output_type": "execute_result"
    }
   ],
   "source": [
    "h[-3]"
   ]
  },
  {
   "cell_type": "code",
   "execution_count": 262,
   "id": "e44cf222-0121-4ecb-8a48-1040232a7b1b",
   "metadata": {},
   "outputs": [
    {
     "data": {
      "text/plain": [
       "(3, 45.67)"
      ]
     },
     "execution_count": 262,
     "metadata": {},
     "output_type": "execute_result"
    }
   ],
   "source": [
    "h[2:5:2]"
   ]
  },
  {
   "cell_type": "code",
   "execution_count": 264,
   "id": "eea4fdca-e585-4d2c-996d-f555a4dabc49",
   "metadata": {},
   "outputs": [
    {
     "data": {
      "text/plain": [
       "()"
      ]
     },
     "execution_count": 264,
     "metadata": {},
     "output_type": "execute_result"
    }
   ],
   "source": [
    "h[2:5:-1]"
   ]
  },
  {
   "cell_type": "code",
   "execution_count": 266,
   "id": "c24b091c-edb4-43ac-8fe8-a6bdb4a44086",
   "metadata": {},
   "outputs": [
    {
     "data": {
      "text/plain": [
       "(1, 2, 3, 'Nihar', 45.67, True)"
      ]
     },
     "execution_count": 266,
     "metadata": {},
     "output_type": "execute_result"
    }
   ],
   "source": [
    "h"
   ]
  },
  {
   "cell_type": "code",
   "execution_count": 268,
   "id": "6553ffdf-952f-4071-a49c-9a7c7688ea86",
   "metadata": {},
   "outputs": [
    {
     "ename": "TypeError",
     "evalue": "'tuple' object does not support item assignment",
     "output_type": "error",
     "traceback": [
      "\u001b[1;31m---------------------------------------------------------------------------\u001b[0m",
      "\u001b[1;31mTypeError\u001b[0m                                 Traceback (most recent call last)",
      "Cell \u001b[1;32mIn[268], line 1\u001b[0m\n\u001b[1;32m----> 1\u001b[0m h[\u001b[38;5;241m3\u001b[39m]\u001b[38;5;241m=\u001b[39m\u001b[38;5;124m\"\u001b[39m\u001b[38;5;124mvaghela\u001b[39m\u001b[38;5;124m\"\u001b[39m\n",
      "\u001b[1;31mTypeError\u001b[0m: 'tuple' object does not support item assignment"
     ]
    }
   ],
   "source": [
    "h[3]=\"vaghela\""
   ]
  },
  {
   "cell_type": "code",
   "execution_count": 270,
   "id": "9de7c925-6982-42c7-ad41-a5cf01c6948c",
   "metadata": {},
   "outputs": [],
   "source": [
    "j=(12,233,\"sd\",\"fwd\")"
   ]
  },
  {
   "cell_type": "code",
   "execution_count": 272,
   "id": "ea00a83c-d225-4472-b642-7f9d29e1892b",
   "metadata": {},
   "outputs": [
    {
     "data": {
      "text/plain": [
       "(12, 233, 'sd', 'fwd', 1, 2, 3, 'Nihar', 45.67, True)"
      ]
     },
     "execution_count": 272,
     "metadata": {},
     "output_type": "execute_result"
    }
   ],
   "source": [
    "j+h"
   ]
  },
  {
   "cell_type": "code",
   "execution_count": 274,
   "id": "028c6dbb-edd6-4646-b6b9-c433ad933e56",
   "metadata": {},
   "outputs": [
    {
     "data": {
      "text/plain": [
       "1"
      ]
     },
     "execution_count": 274,
     "metadata": {},
     "output_type": "execute_result"
    }
   ],
   "source": [
    "h.count(\"Nihar\")"
   ]
  },
  {
   "cell_type": "code",
   "execution_count": 276,
   "id": "46317b84-bcb1-4196-9d80-01e88032bab6",
   "metadata": {},
   "outputs": [
    {
     "data": {
      "text/plain": [
       "0"
      ]
     },
     "execution_count": 276,
     "metadata": {},
     "output_type": "execute_result"
    }
   ],
   "source": [
    "h.index(True)"
   ]
  },
  {
   "cell_type": "code",
   "execution_count": 280,
   "id": "f68a9ef4-3b00-4842-a4de-8370718f235c",
   "metadata": {},
   "outputs": [
    {
     "data": {
      "text/plain": [
       "[1, 2, 3, 'Nihar', 45.67, True]"
      ]
     },
     "execution_count": 280,
     "metadata": {},
     "output_type": "execute_result"
    }
   ],
   "source": [
    "list(h)"
   ]
  },
  {
   "cell_type": "code",
   "execution_count": 284,
   "id": "91e19cd1-edbb-4ceb-be7a-d9923833c225",
   "metadata": {},
   "outputs": [],
   "source": [
    "h1=list(h)"
   ]
  },
  {
   "cell_type": "code",
   "execution_count": 286,
   "id": "e1ec3255-6a1c-425a-9583-05c7849a9455",
   "metadata": {},
   "outputs": [
    {
     "data": {
      "text/plain": [
       "[1, 2, 3, 'Nihar', 45.67, True]"
      ]
     },
     "execution_count": 286,
     "metadata": {},
     "output_type": "execute_result"
    }
   ],
   "source": [
    "h1"
   ]
  },
  {
   "cell_type": "code",
   "execution_count": 288,
   "id": "407e33f4-bc7d-4e56-83bf-360daca81176",
   "metadata": {},
   "outputs": [
    {
     "data": {
      "text/plain": [
       "(1, 2, 3, 'Nihar', 45.67, True)"
      ]
     },
     "execution_count": 288,
     "metadata": {},
     "output_type": "execute_result"
    }
   ],
   "source": [
    "tuple(h1)"
   ]
  },
  {
   "cell_type": "code",
   "execution_count": 290,
   "id": "93002e0e-a1f2-4395-be14-af6c7f3ae70f",
   "metadata": {},
   "outputs": [
    {
     "data": {
      "text/plain": [
       "[1, 2, 3, 'Nihar', 45.67, True]"
      ]
     },
     "execution_count": 290,
     "metadata": {},
     "output_type": "execute_result"
    }
   ],
   "source": [
    "h1"
   ]
  },
  {
   "cell_type": "code",
   "execution_count": 292,
   "id": "18895ae0-53ec-49be-b37a-d45c718f32fd",
   "metadata": {},
   "outputs": [],
   "source": [
    "h2=tuple(h1)"
   ]
  },
  {
   "cell_type": "code",
   "execution_count": 294,
   "id": "a8f9b08d-163c-44a9-b3c9-9106b05da139",
   "metadata": {},
   "outputs": [
    {
     "data": {
      "text/plain": [
       "(1, 2, 3, 'Nihar', 45.67, True)"
      ]
     },
     "execution_count": 294,
     "metadata": {},
     "output_type": "execute_result"
    }
   ],
   "source": [
    "h2"
   ]
  },
  {
   "cell_type": "code",
   "execution_count": 296,
   "id": "c5101bf6-ad9c-452b-84d4-4ac86db3bcac",
   "metadata": {},
   "outputs": [
    {
     "data": {
      "text/plain": [
       "\"(1, 2, 3, 'Nihar', 45.67, True)\""
      ]
     },
     "execution_count": 296,
     "metadata": {},
     "output_type": "execute_result"
    }
   ],
   "source": [
    "str(h2)"
   ]
  },
  {
   "cell_type": "code",
   "execution_count": 314,
   "id": "9d081a56-8877-495a-96b2-5b622a766af1",
   "metadata": {},
   "outputs": [],
   "source": [
    "i1={}"
   ]
  },
  {
   "cell_type": "code",
   "execution_count": 316,
   "id": "8236b3ac-230f-4811-b8d0-7ebcc8320c88",
   "metadata": {},
   "outputs": [
    {
     "data": {
      "text/plain": [
       "dict"
      ]
     },
     "execution_count": 316,
     "metadata": {},
     "output_type": "execute_result"
    }
   ],
   "source": [
    "type(i1)"
   ]
  },
  {
   "cell_type": "code",
   "execution_count": 322,
   "id": "88d9e28a-df2c-4cf4-a44e-3be9f228a079",
   "metadata": {},
   "outputs": [],
   "source": [
    "i1={'AA':\"Nihar\",'BB':\"Rajeshkumar\"}"
   ]
  },
  {
   "cell_type": "code",
   "execution_count": 324,
   "id": "a99d60da-6f6c-46ac-8f6a-5972e2ed4755",
   "metadata": {},
   "outputs": [
    {
     "data": {
      "text/plain": [
       "dict"
      ]
     },
     "execution_count": 324,
     "metadata": {},
     "output_type": "execute_result"
    }
   ],
   "source": [
    "type(i1)"
   ]
  },
  {
   "cell_type": "code",
   "execution_count": 326,
   "id": "321a1836-c973-43fb-bbb6-2d005ee1f7cf",
   "metadata": {},
   "outputs": [],
   "source": [
    "i2={35}"
   ]
  },
  {
   "cell_type": "code",
   "execution_count": 328,
   "id": "8e90046c-2d86-46fe-990c-94bcf17c7f53",
   "metadata": {},
   "outputs": [
    {
     "data": {
      "text/plain": [
       "set"
      ]
     },
     "execution_count": 328,
     "metadata": {},
     "output_type": "execute_result"
    }
   ],
   "source": [
    "type(i2)"
   ]
  },
  {
   "cell_type": "code",
   "execution_count": 330,
   "id": "4a1a9b65-9021-42e3-9eb8-ff3e872fac46",
   "metadata": {},
   "outputs": [
    {
     "data": {
      "text/plain": [
       "'Nihar'"
      ]
     },
     "execution_count": 330,
     "metadata": {},
     "output_type": "execute_result"
    }
   ],
   "source": [
    "i1[\"AA\"]"
   ]
  },
  {
   "cell_type": "code",
   "execution_count": 332,
   "id": "0aa27609-d2cd-40d0-97e8-c15bd1f918dc",
   "metadata": {},
   "outputs": [
    {
     "data": {
      "text/plain": [
       "{'AA': 'Nihar', 'BB': 'Rajeshkumar'}"
      ]
     },
     "execution_count": 332,
     "metadata": {},
     "output_type": "execute_result"
    }
   ],
   "source": [
    "i1"
   ]
  },
  {
   "cell_type": "code",
   "execution_count": 334,
   "id": "31e071b5-a9c0-4559-9276-89999dcfc2a0",
   "metadata": {},
   "outputs": [],
   "source": [
    "i3={'AA':'Nihar','BB':'Vaghela','thinking':'strategic', 'approach':'Structured'}"
   ]
  },
  {
   "cell_type": "code",
   "execution_count": 336,
   "id": "0fe098b7-1afb-453a-9e3f-35438ed2ce9a",
   "metadata": {},
   "outputs": [
    {
     "data": {
      "text/plain": [
       "{'AA': 'Nihar',\n",
       " 'BB': 'Vaghela',\n",
       " 'thinking': 'strategic',\n",
       " 'approach': 'Structured'}"
      ]
     },
     "execution_count": 336,
     "metadata": {},
     "output_type": "execute_result"
    }
   ],
   "source": [
    "i3"
   ]
  },
  {
   "cell_type": "code",
   "execution_count": 338,
   "id": "8bb9c683-377f-4420-80db-c81c1337c4aa",
   "metadata": {},
   "outputs": [
    {
     "data": {
      "text/plain": [
       "'strategic'"
      ]
     },
     "execution_count": 338,
     "metadata": {},
     "output_type": "execute_result"
    }
   ],
   "source": [
    "i3['thinking']"
   ]
  },
  {
   "cell_type": "code",
   "execution_count": 342,
   "id": "62efef36-7df0-4cf4-9437-76b2795a0666",
   "metadata": {},
   "outputs": [
    {
     "data": {
      "text/plain": [
       "True"
      ]
     },
     "execution_count": 342,
     "metadata": {},
     "output_type": "execute_result"
    }
   ],
   "source": [
    "'strategic' in i3['thinking']"
   ]
  },
  {
   "cell_type": "code",
   "execution_count": 345,
   "id": "0019150b-4238-4264-9f6e-eb42c6b0e432",
   "metadata": {},
   "outputs": [],
   "source": [
    "i3={'AA':'Nihar','BB':'Vaghela','thinking':'strategic', 'approach':'Structured','AA':'Rajeshkumar'}"
   ]
  },
  {
   "cell_type": "code",
   "execution_count": 347,
   "id": "17e3b6ec-a0ab-4840-8bf9-47df32e25c72",
   "metadata": {},
   "outputs": [
    {
     "data": {
      "text/plain": [
       "{'AA': 'Rajeshkumar',\n",
       " 'BB': 'Vaghela',\n",
       " 'thinking': 'strategic',\n",
       " 'approach': 'Structured'}"
      ]
     },
     "execution_count": 347,
     "metadata": {},
     "output_type": "execute_result"
    }
   ],
   "source": [
    "i3"
   ]
  },
  {
   "cell_type": "code",
   "execution_count": 353,
   "id": "11b7f03a-3de8-4ba1-af6e-db0c004f1b1b",
   "metadata": {},
   "outputs": [],
   "source": [
    "i3['CC']='Nihar'"
   ]
  },
  {
   "cell_type": "code",
   "execution_count": 355,
   "id": "0476d46f-d9bf-41e4-9e51-e7e72f1a6fb3",
   "metadata": {},
   "outputs": [
    {
     "data": {
      "text/plain": [
       "{'AA': 'Rajeshkumar',\n",
       " 'BB': 'Vaghela',\n",
       " 'thinking': 'strategic',\n",
       " 'approach': 'Structured',\n",
       " 'CC': 'Nihar'}"
      ]
     },
     "execution_count": 355,
     "metadata": {},
     "output_type": "execute_result"
    }
   ],
   "source": [
    "i3"
   ]
  },
  {
   "cell_type": "code",
   "execution_count": 357,
   "id": "cdb50fad-f6c9-44dc-9dd9-ed8676774fc0",
   "metadata": {},
   "outputs": [],
   "source": [
    "i3['AA']='Nihar'"
   ]
  },
  {
   "cell_type": "code",
   "execution_count": 359,
   "id": "4938859a-3298-49a7-b98a-a51b333c17c9",
   "metadata": {},
   "outputs": [
    {
     "data": {
      "text/plain": [
       "{'AA': 'Nihar',\n",
       " 'BB': 'Vaghela',\n",
       " 'thinking': 'strategic',\n",
       " 'approach': 'Structured',\n",
       " 'CC': 'Nihar'}"
      ]
     },
     "execution_count": 359,
     "metadata": {},
     "output_type": "execute_result"
    }
   ],
   "source": [
    "i3"
   ]
  },
  {
   "cell_type": "code",
   "execution_count": 361,
   "id": "b5e8db16-b323-45b7-97ae-5dcbb396b902",
   "metadata": {},
   "outputs": [],
   "source": [
    "i3['CC']='Rajeshkumar'"
   ]
  },
  {
   "cell_type": "code",
   "execution_count": 363,
   "id": "690af897-ed3f-44d9-94ef-a3c552175f34",
   "metadata": {},
   "outputs": [
    {
     "data": {
      "text/plain": [
       "{'AA': 'Nihar',\n",
       " 'BB': 'Vaghela',\n",
       " 'thinking': 'strategic',\n",
       " 'approach': 'Structured',\n",
       " 'CC': 'Rajeshkumar'}"
      ]
     },
     "execution_count": 363,
     "metadata": {},
     "output_type": "execute_result"
    }
   ],
   "source": [
    "i3"
   ]
  },
  {
   "cell_type": "code",
   "execution_count": 369,
   "id": "dd12023e-7765-4cf2-982a-c0a101e20b2f",
   "metadata": {},
   "outputs": [],
   "source": [
    "i3['DD']=i1"
   ]
  },
  {
   "cell_type": "code",
   "execution_count": 371,
   "id": "a9e90881-4221-4a01-9e37-7c44cb4ec72e",
   "metadata": {},
   "outputs": [
    {
     "data": {
      "text/plain": [
       "{'AA': 'Nihar',\n",
       " 'BB': 'Vaghela',\n",
       " 'thinking': 'strategic',\n",
       " 'approach': 'Structured',\n",
       " 'CC': 'Rajeshkumar',\n",
       " 'DD': {'AA': 'Nihar', 'BB': 'Rajeshkumar'}}"
      ]
     },
     "execution_count": 371,
     "metadata": {},
     "output_type": "execute_result"
    }
   ],
   "source": [
    "i3"
   ]
  },
  {
   "cell_type": "code",
   "execution_count": 373,
   "id": "082eaa95-e70d-4d00-9ad5-b6ef14220a63",
   "metadata": {},
   "outputs": [
    {
     "data": {
      "text/plain": [
       "'Nihar'"
      ]
     },
     "execution_count": 373,
     "metadata": {},
     "output_type": "execute_result"
    }
   ],
   "source": [
    "i3['DD']['AA']"
   ]
  },
  {
   "cell_type": "code",
   "execution_count": 379,
   "id": "de04e2e3-5f6d-4195-b394-37839897b06f",
   "metadata": {},
   "outputs": [
    {
     "ename": "SyntaxError",
     "evalue": "invalid syntax (3245390115.py, line 1)",
     "output_type": "error",
     "traceback": [
      "\u001b[1;36m  Cell \u001b[1;32mIn[379], line 1\u001b[1;36m\u001b[0m\n\u001b[1;33m    i4={@:'Nihar'}\u001b[0m\n\u001b[1;37m        ^\u001b[0m\n\u001b[1;31mSyntaxError\u001b[0m\u001b[1;31m:\u001b[0m invalid syntax\n"
     ]
    }
   ],
   "source": [
    "i4={@:'Nihar'}"
   ]
  },
  {
   "cell_type": "code",
   "execution_count": 381,
   "id": "e3e0bacb-2694-497a-b909-ff852385793b",
   "metadata": {},
   "outputs": [],
   "source": [
    "i4={_:'Nihar'}"
   ]
  },
  {
   "cell_type": "code",
   "execution_count": 383,
   "id": "f84ec909-990d-4bef-af82-b2ce5ae4276e",
   "metadata": {},
   "outputs": [
    {
     "data": {
      "text/plain": [
       "'Nihar'"
      ]
     },
     "execution_count": 383,
     "metadata": {},
     "output_type": "execute_result"
    }
   ],
   "source": [
    "i4[_]"
   ]
  },
  {
   "cell_type": "code",
   "execution_count": 387,
   "id": "04d95731-a1a0-4162-b147-37eb7bf7feba",
   "metadata": {},
   "outputs": [],
   "source": [
    "i5={(1,2,3,4,5,6,7.5):\"Years\"}"
   ]
  },
  {
   "cell_type": "code",
   "execution_count": 391,
   "id": "243375e2-1172-4d01-8a07-d48a6d9a987f",
   "metadata": {},
   "outputs": [
    {
     "data": {
      "text/plain": [
       "'Years'"
      ]
     },
     "execution_count": 391,
     "metadata": {},
     "output_type": "execute_result"
    }
   ],
   "source": [
    "i5[(1,2,3,4,5,6,7.5)]"
   ]
  },
  {
   "cell_type": "code",
   "execution_count": 393,
   "id": "6c72d382-9a30-40d2-b6ec-5634a5a2f015",
   "metadata": {},
   "outputs": [
    {
     "ename": "TypeError",
     "evalue": "unhashable type: 'list'",
     "output_type": "error",
     "traceback": [
      "\u001b[1;31m---------------------------------------------------------------------------\u001b[0m",
      "\u001b[1;31mTypeError\u001b[0m                                 Traceback (most recent call last)",
      "Cell \u001b[1;32mIn[393], line 1\u001b[0m\n\u001b[1;32m----> 1\u001b[0m i6\u001b[38;5;241m=\u001b[39m{[\u001b[38;5;241m1\u001b[39m,\u001b[38;5;241m2\u001b[39m,\u001b[38;5;241m3\u001b[39m,\u001b[38;5;241m4\u001b[39m,\u001b[38;5;241m5\u001b[39m,\u001b[38;5;241m6\u001b[39m,\u001b[38;5;241m7.5\u001b[39m]:\u001b[38;5;124m'\u001b[39m\u001b[38;5;124mYears\u001b[39m\u001b[38;5;124m'\u001b[39m}\n",
      "\u001b[1;31mTypeError\u001b[0m: unhashable type: 'list'"
     ]
    }
   ],
   "source": [
    "i6={[1,2,3,4,5,6,7.5]:'Years'}"
   ]
  },
  {
   "cell_type": "code",
   "execution_count": 395,
   "id": "9210f9bb-e410-4b2c-87c7-b5704a54c079",
   "metadata": {},
   "outputs": [
    {
     "ename": "TypeError",
     "evalue": "unhashable type: 'dict'",
     "output_type": "error",
     "traceback": [
      "\u001b[1;31m---------------------------------------------------------------------------\u001b[0m",
      "\u001b[1;31mTypeError\u001b[0m                                 Traceback (most recent call last)",
      "Cell \u001b[1;32mIn[395], line 1\u001b[0m\n\u001b[1;32m----> 1\u001b[0m i6\u001b[38;5;241m=\u001b[39m{i4:\u001b[38;5;124m'\u001b[39m\u001b[38;5;124mNihar\u001b[39m\u001b[38;5;124m'\u001b[39m}\n",
      "\u001b[1;31mTypeError\u001b[0m: unhashable type: 'dict'"
     ]
    }
   ],
   "source": [
    "i6={i4:'Nihar'}"
   ]
  },
  {
   "cell_type": "code",
   "execution_count": 397,
   "id": "29215ca2-a98c-44e6-acb2-f31379b3415f",
   "metadata": {},
   "outputs": [
    {
     "data": {
      "text/plain": [
       "{'AA': 'Nihar', 'BB': 'Rajeshkumar'}"
      ]
     },
     "execution_count": 397,
     "metadata": {},
     "output_type": "execute_result"
    }
   ],
   "source": [
    "i1"
   ]
  },
  {
   "cell_type": "code",
   "execution_count": 401,
   "id": "d2c3cac7-c8c0-4ebb-951e-139073109b31",
   "metadata": {},
   "outputs": [
    {
     "ename": "TypeError",
     "evalue": "unsupported operand type(s) for +: 'dict' and 'dict'",
     "output_type": "error",
     "traceback": [
      "\u001b[1;31m---------------------------------------------------------------------------\u001b[0m",
      "\u001b[1;31mTypeError\u001b[0m                                 Traceback (most recent call last)",
      "Cell \u001b[1;32mIn[401], line 1\u001b[0m\n\u001b[1;32m----> 1\u001b[0m i1\u001b[38;5;241m+\u001b[39mi3\n",
      "\u001b[1;31mTypeError\u001b[0m: unsupported operand type(s) for +: 'dict' and 'dict'"
     ]
    }
   ],
   "source": [
    "i1+i3"
   ]
  },
  {
   "cell_type": "code",
   "execution_count": 403,
   "id": "45f50d10-c80c-4726-87d0-4a2025264396",
   "metadata": {},
   "outputs": [
    {
     "data": {
      "text/plain": [
       "{'AA': 'Nihar',\n",
       " 'BB': 'Vaghela',\n",
       " 'thinking': 'strategic',\n",
       " 'approach': 'Structured',\n",
       " 'CC': 'Rajeshkumar',\n",
       " 'DD': {'AA': 'Nihar', 'BB': 'Rajeshkumar'}}"
      ]
     },
     "execution_count": 403,
     "metadata": {},
     "output_type": "execute_result"
    }
   ],
   "source": [
    "i3"
   ]
  },
  {
   "cell_type": "code",
   "execution_count": 405,
   "id": "dd1f5f07-fe0b-4e9e-9e0f-2b21a8da55e4",
   "metadata": {},
   "outputs": [
    {
     "data": {
      "text/plain": [
       "dict_keys(['AA', 'BB', 'thinking', 'approach', 'CC', 'DD'])"
      ]
     },
     "execution_count": 405,
     "metadata": {},
     "output_type": "execute_result"
    }
   ],
   "source": [
    "i3.keys()"
   ]
  },
  {
   "cell_type": "code",
   "execution_count": 407,
   "id": "1110b401-b2be-46ed-ac42-494034e73d02",
   "metadata": {},
   "outputs": [
    {
     "data": {
      "text/plain": [
       "dict_values(['Nihar', 'Vaghela', 'strategic', 'Structured', 'Rajeshkumar', {'AA': 'Nihar', 'BB': 'Rajeshkumar'}])"
      ]
     },
     "execution_count": 407,
     "metadata": {},
     "output_type": "execute_result"
    }
   ],
   "source": [
    "i3.values()"
   ]
  },
  {
   "cell_type": "code",
   "execution_count": 409,
   "id": "47825064-ba91-4360-9833-cbb971c40f45",
   "metadata": {},
   "outputs": [
    {
     "data": {
      "text/plain": [
       "dict_items([('AA', 'Nihar'), ('BB', 'Vaghela'), ('thinking', 'strategic'), ('approach', 'Structured'), ('CC', 'Rajeshkumar'), ('DD', {'AA': 'Nihar', 'BB': 'Rajeshkumar'})])"
      ]
     },
     "execution_count": 409,
     "metadata": {},
     "output_type": "execute_result"
    }
   ],
   "source": [
    "i3.items()"
   ]
  },
  {
   "cell_type": "code",
   "execution_count": 411,
   "id": "92a05847-d42f-4933-be19-1a919f4305cc",
   "metadata": {},
   "outputs": [],
   "source": [
    "t1={1,2,3,4,5,6,7,8,9,10}"
   ]
  },
  {
   "cell_type": "code",
   "execution_count": 413,
   "id": "a0945a95-f72e-4365-a240-9e5d1b348488",
   "metadata": {},
   "outputs": [
    {
     "data": {
      "text/plain": [
       "set"
      ]
     },
     "execution_count": 413,
     "metadata": {},
     "output_type": "execute_result"
    }
   ],
   "source": [
    "type(t1)"
   ]
  },
  {
   "cell_type": "code",
   "execution_count": 415,
   "id": "19c45497-0b80-4a5e-bd3b-7cc6d3ceac61",
   "metadata": {},
   "outputs": [],
   "source": [
    "t2={22,33,5,6,7,8,8,8,9,10,11,11,11,11}"
   ]
  },
  {
   "cell_type": "code",
   "execution_count": 417,
   "id": "27dadf4f-287b-4c89-8eb0-9fcb03cd28f3",
   "metadata": {},
   "outputs": [
    {
     "data": {
      "text/plain": [
       "{5, 6, 7, 8, 9, 10, 11, 22, 33}"
      ]
     },
     "execution_count": 417,
     "metadata": {},
     "output_type": "execute_result"
    }
   ],
   "source": [
    "t2"
   ]
  },
  {
   "cell_type": "code",
   "execution_count": 439,
   "id": "ff1a6d7d-c852-46de-b8ee-f8b14260a7d9",
   "metadata": {},
   "outputs": [],
   "source": [
    "t3={'AAA', 'BBBB', 'thinking', 'approach', 'C', 'DD'}"
   ]
  },
  {
   "cell_type": "code",
   "execution_count": 441,
   "id": "78ccc2cd-c4a0-40a1-972c-fce78b3f5c0c",
   "metadata": {},
   "outputs": [
    {
     "data": {
      "text/plain": [
       "{'AAA', 'BBBB', 'C', 'DD', 'approach', 'thinking'}"
      ]
     },
     "execution_count": 441,
     "metadata": {},
     "output_type": "execute_result"
    }
   ],
   "source": [
    "t3"
   ]
  },
  {
   "cell_type": "code",
   "execution_count": 3,
   "id": "a7920241-5dcb-4ed1-92c5-bb4033dd61b9",
   "metadata": {},
   "outputs": [],
   "source": [
    "t4={'aa','bb','cc',1222,25,323,4.6,55,6}"
   ]
  },
  {
   "cell_type": "code",
   "execution_count": 5,
   "id": "5758d106-7f46-4385-ac68-63a7270c214a",
   "metadata": {},
   "outputs": [
    {
     "data": {
      "text/plain": [
       "{1222, 25, 323, 4.6, 55, 6, 'aa', 'bb', 'cc'}"
      ]
     },
     "execution_count": 5,
     "metadata": {},
     "output_type": "execute_result"
    }
   ],
   "source": [
    "t4"
   ]
  },
  {
   "cell_type": "code",
   "execution_count": 7,
   "id": "10e4332f-1992-4ade-8a84-b2107a447ae7",
   "metadata": {},
   "outputs": [
    {
     "ename": "TypeError",
     "evalue": "'set' object is not subscriptable",
     "output_type": "error",
     "traceback": [
      "\u001b[1;31m---------------------------------------------------------------------------\u001b[0m",
      "\u001b[1;31mTypeError\u001b[0m                                 Traceback (most recent call last)",
      "Cell \u001b[1;32mIn[7], line 1\u001b[0m\n\u001b[1;32m----> 1\u001b[0m t4[\u001b[38;5;241m4\u001b[39m]\n",
      "\u001b[1;31mTypeError\u001b[0m: 'set' object is not subscriptable"
     ]
    }
   ],
   "source": [
    "t4[4]"
   ]
  },
  {
   "cell_type": "code",
   "execution_count": 445,
   "id": "2cb7ee49-cbee-4cc2-8424-cd1cf2e2e382",
   "metadata": {},
   "outputs": [
    {
     "data": {
      "text/plain": [
       "['aa', 323, 4.6, 1222, 6, 55, 25, 'bb', 'cc']"
      ]
     },
     "execution_count": 445,
     "metadata": {},
     "output_type": "execute_result"
    }
   ],
   "source": [
    "list(t4)"
   ]
  },
  {
   "cell_type": "code",
   "execution_count": 449,
   "id": "e61c5b32-4942-433c-9665-cd9e5c6b82f4",
   "metadata": {},
   "outputs": [],
   "source": [
    "t5=list(t4)"
   ]
  },
  {
   "cell_type": "code",
   "execution_count": 453,
   "id": "20c26962-ff74-40b2-b1a3-fa9068008e2e",
   "metadata": {},
   "outputs": [
    {
     "data": {
      "text/plain": [
       "['aa', 323, 4.6, 1222, 6, 55, 25, 'bb', 'cc']"
      ]
     },
     "execution_count": 453,
     "metadata": {},
     "output_type": "execute_result"
    }
   ],
   "source": [
    "t5"
   ]
  },
  {
   "cell_type": "code",
   "execution_count": 6,
   "id": "75162526-3deb-4387-bc25-f4a6be29421f",
   "metadata": {},
   "outputs": [],
   "source": [
    "t6=[1,1,1,1,1,1,1,2211,2323,3545,5765,23,54,12,464,876]"
   ]
  },
  {
   "cell_type": "code",
   "execution_count": 8,
   "id": "ec5ab30b-0d91-4fac-8c6b-37d6013393f0",
   "metadata": {},
   "outputs": [
    {
     "data": {
      "text/plain": [
       "[1, 1, 1, 1, 1, 1, 1, 2211, 2323, 3545, 5765, 23, 54, 12, 464, 876]"
      ]
     },
     "execution_count": 8,
     "metadata": {},
     "output_type": "execute_result"
    }
   ],
   "source": [
    "t6"
   ]
  },
  {
   "cell_type": "code",
   "execution_count": 10,
   "id": "7760e89b-8fb0-4ae5-8dd1-4c0b15b35512",
   "metadata": {},
   "outputs": [
    {
     "data": {
      "text/plain": [
       "{1, 12, 23, 54, 464, 876, 2211, 2323, 3545, 5765}"
      ]
     },
     "execution_count": 10,
     "metadata": {},
     "output_type": "execute_result"
    }
   ],
   "source": [
    "set(t6)"
   ]
  },
  {
   "cell_type": "code",
   "execution_count": 14,
   "id": "5229bd5a-adae-4e8d-84c1-e34ae499cabc",
   "metadata": {},
   "outputs": [
    {
     "data": {
      "text/plain": [
       "{1, 12, 23, 54, 464, 876, 2211, 2323, 3545, 5765}"
      ]
     },
     "execution_count": 14,
     "metadata": {},
     "output_type": "execute_result"
    }
   ],
   "source": [
    "set(list(t6))"
   ]
  },
  {
   "cell_type": "code",
   "execution_count": 22,
   "id": "54177426-de85-4502-91e3-b3d73638971a",
   "metadata": {},
   "outputs": [],
   "source": [
    "t7=set(list(t6))"
   ]
  },
  {
   "cell_type": "code",
   "execution_count": 24,
   "id": "b2b931ad-c224-46e6-940f-aab0bba3eb4f",
   "metadata": {},
   "outputs": [],
   "source": [
    "t7.add(99)"
   ]
  },
  {
   "cell_type": "code",
   "execution_count": 26,
   "id": "ed45511e-2020-4e81-aaa6-be722e1cabb0",
   "metadata": {},
   "outputs": [
    {
     "data": {
      "text/plain": [
       "{1, 12, 23, 54, 99, 464, 876, 2211, 2323, 3545, 5765}"
      ]
     },
     "execution_count": 26,
     "metadata": {},
     "output_type": "execute_result"
    }
   ],
   "source": [
    "t7"
   ]
  },
  {
   "cell_type": "code",
   "execution_count": 28,
   "id": "5d7b55b7-4385-4484-9ae4-fbedfb1fbcaa",
   "metadata": {},
   "outputs": [
    {
     "ename": "TypeError",
     "evalue": "unhashable type: 'list'",
     "output_type": "error",
     "traceback": [
      "\u001b[1;31m---------------------------------------------------------------------------\u001b[0m",
      "\u001b[1;31mTypeError\u001b[0m                                 Traceback (most recent call last)",
      "Cell \u001b[1;32mIn[28], line 1\u001b[0m\n\u001b[1;32m----> 1\u001b[0m t7\u001b[38;5;241m.\u001b[39madd([\u001b[38;5;241m100\u001b[39m,\u001b[38;5;241m98\u001b[39m,\u001b[38;5;241m97\u001b[39m,\u001b[38;5;241m96\u001b[39m,\u001b[38;5;241m95\u001b[39m])\n",
      "\u001b[1;31mTypeError\u001b[0m: unhashable type: 'list'"
     ]
    }
   ],
   "source": [
    "t7.add([100,98,97,96,95])"
   ]
  },
  {
   "cell_type": "code",
   "execution_count": 30,
   "id": "f7a9d732-204e-4fc3-9b37-aa5ec5ac4bb6",
   "metadata": {},
   "outputs": [],
   "source": [
    "t8={(1,2,3,4,5),6,7,8,9,10}"
   ]
  },
  {
   "cell_type": "code",
   "execution_count": 32,
   "id": "8b2d66b4-f30e-4933-bbed-3b193941780f",
   "metadata": {},
   "outputs": [
    {
     "data": {
      "text/plain": [
       "{(1, 2, 3, 4, 5), 10, 6, 7, 8, 9}"
      ]
     },
     "execution_count": 32,
     "metadata": {},
     "output_type": "execute_result"
    }
   ],
   "source": [
    "t8"
   ]
  },
  {
   "cell_type": "code",
   "execution_count": 34,
   "id": "c9096de4-3928-4a04-ad86-90504e2c454f",
   "metadata": {},
   "outputs": [
    {
     "ename": "TypeError",
     "evalue": "unhashable type: 'list'",
     "output_type": "error",
     "traceback": [
      "\u001b[1;31m---------------------------------------------------------------------------\u001b[0m",
      "\u001b[1;31mTypeError\u001b[0m                                 Traceback (most recent call last)",
      "Cell \u001b[1;32mIn[34], line 1\u001b[0m\n\u001b[1;32m----> 1\u001b[0m t8\u001b[38;5;241m=\u001b[39m{[\u001b[38;5;241m1\u001b[39m,\u001b[38;5;241m2\u001b[39m,\u001b[38;5;241m3\u001b[39m,\u001b[38;5;241m4\u001b[39m,\u001b[38;5;241m5\u001b[39m],\u001b[38;5;241m6\u001b[39m,\u001b[38;5;241m7\u001b[39m,\u001b[38;5;241m8\u001b[39m,\u001b[38;5;241m9\u001b[39m,\u001b[38;5;241m10\u001b[39m}\n",
      "\u001b[1;31mTypeError\u001b[0m: unhashable type: 'list'"
     ]
    }
   ],
   "source": [
    "t8={[1,2,3,4,5],6,7,8,9,10}"
   ]
  },
  {
   "cell_type": "code",
   "execution_count": 36,
   "id": "0a3ff59c-63ce-4ebc-a5ee-fad32c1bce8a",
   "metadata": {},
   "outputs": [],
   "source": [
    "t7.remove(99)"
   ]
  },
  {
   "cell_type": "code",
   "execution_count": 38,
   "id": "56d03f1a-ebd4-408d-9046-084eb2954129",
   "metadata": {},
   "outputs": [
    {
     "data": {
      "text/plain": [
       "{1, 12, 23, 54, 464, 876, 2211, 2323, 3545, 5765}"
      ]
     },
     "execution_count": 38,
     "metadata": {},
     "output_type": "execute_result"
    }
   ],
   "source": [
    "t7"
   ]
  },
  {
   "cell_type": "code",
   "execution_count": 40,
   "id": "afab53e2-37b1-4a4c-b040-b2649ce4d075",
   "metadata": {},
   "outputs": [],
   "source": [
    "t7.discard(12)"
   ]
  },
  {
   "cell_type": "code",
   "execution_count": 50,
   "id": "e6e182b6-7b68-4452-80fc-8adb0d7ebdce",
   "metadata": {},
   "outputs": [
    {
     "data": {
      "text/plain": [
       "{1, 23, 54, 464, 876, 2323, 3545, 5765}"
      ]
     },
     "execution_count": 50,
     "metadata": {},
     "output_type": "execute_result"
    }
   ],
   "source": [
    "t7"
   ]
  },
  {
   "cell_type": "code",
   "execution_count": 52,
   "id": "44bfcb66-0477-4f5f-ba17-902afa8a9aa2",
   "metadata": {},
   "outputs": [
    {
     "data": {
      "text/plain": [
       "{1, 23, 54, 464, 876, 2323, 3545, 5765}"
      ]
     },
     "execution_count": 52,
     "metadata": {},
     "output_type": "execute_result"
    }
   ],
   "source": [
    "t7"
   ]
  },
  {
   "cell_type": "code",
   "execution_count": 1,
   "id": "c6102ecd-7bb8-49b4-800e-89afdb7cc222",
   "metadata": {},
   "outputs": [],
   "source": [
    "l = [3,4,5,6,7 , [23,456,67,8,78,78] , [345,56,87,8,98,9] , (234,6657,6) , {\"key1\" :\"sudh\" , 234:[23,45,656]}]"
   ]
  },
  {
   "cell_type": "code",
   "execution_count": 3,
   "id": "6f425d7d-576a-4f7e-9866-6832d4307239",
   "metadata": {},
   "outputs": [],
   "source": [
    "l.reverse()"
   ]
  },
  {
   "cell_type": "code",
   "execution_count": 5,
   "id": "5941b4c8-3dfc-4845-85c2-78453283f5a2",
   "metadata": {},
   "outputs": [
    {
     "data": {
      "text/plain": [
       "[{'key1': 'sudh', 234: [23, 45, 656]},\n",
       " (234, 6657, 6),\n",
       " [345, 56, 87, 8, 98, 9],\n",
       " [23, 456, 67, 8, 78, 78],\n",
       " 7,\n",
       " 6,\n",
       " 5,\n",
       " 4,\n",
       " 3]"
      ]
     },
     "execution_count": 5,
     "metadata": {},
     "output_type": "execute_result"
    }
   ],
   "source": [
    "l"
   ]
  },
  {
   "cell_type": "code",
   "execution_count": 17,
   "id": "3c1d0ec7-a60f-48a3-b2f4-46725728c91e",
   "metadata": {},
   "outputs": [],
   "source": [
    "l1=l[1]"
   ]
  },
  {
   "cell_type": "code",
   "execution_count": 19,
   "id": "d01d5180-7744-4534-b558-287fc09361d6",
   "metadata": {},
   "outputs": [
    {
     "data": {
      "text/plain": [
       "[234, 6657, 6]"
      ]
     },
     "execution_count": 19,
     "metadata": {},
     "output_type": "execute_result"
    }
   ],
   "source": [
    "list(l1)"
   ]
  },
  {
   "cell_type": "code",
   "execution_count": 21,
   "id": "8ddaebd1-2668-44d3-969f-2be27adaebe0",
   "metadata": {},
   "outputs": [
    {
     "data": {
      "text/plain": [
       "234"
      ]
     },
     "execution_count": 21,
     "metadata": {},
     "output_type": "execute_result"
    }
   ],
   "source": [
    "l1[0]"
   ]
  },
  {
   "cell_type": "code",
   "execution_count": 23,
   "id": "3a1de30c-e17a-46fc-a935-e9dd94f659fb",
   "metadata": {},
   "outputs": [
    {
     "data": {
      "text/plain": [
       "456"
      ]
     },
     "execution_count": 23,
     "metadata": {},
     "output_type": "execute_result"
    }
   ],
   "source": [
    "l[3][1]"
   ]
  },
  {
   "cell_type": "code",
   "execution_count": 25,
   "id": "01d0474a-cba0-4d75-b65f-e00142f20ae0",
   "metadata": {},
   "outputs": [
    {
     "data": {
      "text/plain": [
       "[[345, 56, 87, 8, 98, 9], [23, 456, 67, 8, 78, 78]]"
      ]
     },
     "execution_count": 25,
     "metadata": {},
     "output_type": "execute_result"
    }
   ],
   "source": [
    "l[2:4:1]"
   ]
  },
  {
   "cell_type": "code",
   "execution_count": 29,
   "id": "89acbfae-85e7-46aa-b8e6-a31bd9e42ee1",
   "metadata": {},
   "outputs": [
    {
     "data": {
      "text/plain": [
       "'sudh'"
      ]
     },
     "execution_count": 29,
     "metadata": {},
     "output_type": "execute_result"
    }
   ],
   "source": [
    "l[0]['key1']"
   ]
  },
  {
   "cell_type": "code",
   "execution_count": 35,
   "id": "6a72c8d3-5abf-4bf6-8153-410a5c9530a9",
   "metadata": {},
   "outputs": [
    {
     "data": {
      "text/plain": [
       "['key1', 234]"
      ]
     },
     "execution_count": 35,
     "metadata": {},
     "output_type": "execute_result"
    }
   ],
   "source": [
    "list(l[0].keys())"
   ]
  },
  {
   "cell_type": "code",
   "execution_count": 41,
   "id": "472d136e-3d20-420f-9d08-1d5a50af5c40",
   "metadata": {},
   "outputs": [
    {
     "data": {
      "text/plain": [
       "['sudh', [23, 45, 656]]"
      ]
     },
     "execution_count": 41,
     "metadata": {},
     "output_type": "execute_result"
    }
   ],
   "source": [
    "list(l[0].values())"
   ]
  },
  {
   "cell_type": "code",
   "execution_count": null,
   "id": "5e6e2591-341e-4edd-b0d9-a772db6ac642",
   "metadata": {},
   "outputs": [],
   "source": []
  }
 ],
 "metadata": {
  "kernelspec": {
   "display_name": "Python 3 (ipykernel)",
   "language": "python",
   "name": "python3"
  },
  "language_info": {
   "codemirror_mode": {
    "name": "ipython",
    "version": 3
   },
   "file_extension": ".py",
   "mimetype": "text/x-python",
   "name": "python",
   "nbconvert_exporter": "python",
   "pygments_lexer": "ipython3",
   "version": "3.12.7"
  }
 },
 "nbformat": 4,
 "nbformat_minor": 5
}
